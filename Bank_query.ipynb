{
 "cells": [
  {
   "cell_type": "code",
   "execution_count": 80,
   "id": "a7b1f054",
   "metadata": {},
   "outputs": [],
   "source": [
    "import datetime\n",
    "import pytz\n",
    "from pytz import timezone"
   ]
  },
  {
   "cell_type": "code",
   "execution_count": 81,
   "id": "51813c8c",
   "metadata": {},
   "outputs": [],
   "source": [
    "class Bank_Account():\n",
    "    \n",
    "    def __init__(self, name, balance):\n",
    "        self.name = name\n",
    "        self.balance = balance\n",
    "        self.transaction_list = []\n",
    "        self.dep_withdrwan = \"a\"\n",
    "        print(\"Dear {} your account has been created and the balance is INR {} \".format(self.name,self.balance))\n",
    "        \n",
    "    def deposit(self,amount):\n",
    "        if amount > 0:\n",
    "            self.balance += amount\n",
    "            self.show_balance()\n",
    "            self.transaction_list.append((pytz.utc.localize(datetime.datetime.utcnow()),amount))\n",
    "            \n",
    "    def withdrawn(self,amount):\n",
    "        if 0<amount < self.balance:\n",
    "            self.balance -= amount\n",
    "            self.show_balance()\n",
    "            self.transaction_list.append((pytz.utc.localize(datetime.datetime.utcnow()),-amount))\n",
    "        else:\n",
    "            print(\"You have insufficient balance and you cannot withdraw above {}\".format(self.balance))\n",
    "            \n",
    "    def show_balance (self):\n",
    "        print(\"Your current balance is {} \\-\".format(self.balance))\n",
    "        \n",
    "    def show_trans(self):\n",
    "        for date,amount in self.transaction_list:\n",
    "            if amount > 0:\n",
    "                tran_type=\"Deposit\"\n",
    "            else:\n",
    "                tran_type=\"Withdraw\"\n",
    "                amount = -amount\n",
    "            print(\"INR {}\\- {} on {}\".format(amount, tran_type,date.astimezone()))\n",
    "    "
   ]
  },
  {
   "cell_type": "code",
   "execution_count": 82,
   "id": "9644e2d7",
   "metadata": {},
   "outputs": [
    {
     "name": "stdout",
     "output_type": "stream",
     "text": [
      "Dear Preeti your account has been created and the balance is INR 9000 \n"
     ]
    }
   ],
   "source": [
    "cust1= Bank_Account(\"Preeti\", 9000)"
   ]
  },
  {
   "cell_type": "code",
   "execution_count": 83,
   "id": "d2a8c129",
   "metadata": {},
   "outputs": [
    {
     "name": "stdout",
     "output_type": "stream",
     "text": [
      "Your current balance is 9000 \\-\n"
     ]
    }
   ],
   "source": [
    "cust1.show_balance()"
   ]
  },
  {
   "cell_type": "code",
   "execution_count": 84,
   "id": "74e86e06",
   "metadata": {},
   "outputs": [
    {
     "name": "stdout",
     "output_type": "stream",
     "text": [
      "Your current balance is 16634 \\-\n"
     ]
    }
   ],
   "source": [
    "cust1.deposit(7634)"
   ]
  },
  {
   "cell_type": "code",
   "execution_count": 85,
   "id": "bf85bc27",
   "metadata": {},
   "outputs": [
    {
     "name": "stdout",
     "output_type": "stream",
     "text": [
      "Your current balance is 15278 \\-\n"
     ]
    }
   ],
   "source": [
    "cust1.withdrawn(1356)"
   ]
  },
  {
   "cell_type": "code",
   "execution_count": 86,
   "id": "e31e5f4a",
   "metadata": {},
   "outputs": [
    {
     "name": "stdout",
     "output_type": "stream",
     "text": [
      "INR 7634\\- Deposit on 2021-09-07 12:50:18.143318+08:00\n",
      "INR 1356\\- Withdraw on 2021-09-07 12:50:20.020406+08:00\n"
     ]
    }
   ],
   "source": [
    "cust1.show_trans()"
   ]
  },
  {
   "cell_type": "code",
   "execution_count": 87,
   "id": "803f2eb3",
   "metadata": {},
   "outputs": [],
   "source": [
    "\n",
    "class Bank_Account():\n",
    "    \n",
    "    @staticmethod\n",
    "    def _time_now():\n",
    "            current_time = datetime.datetime.utcnow()\n",
    "            return pytz.utc.localize(current_time)\n",
    "            \n",
    "    \n",
    "    def __init__(self, name, balance):\n",
    "        self.name = name\n",
    "        self.balance = balance\n",
    "        self.transaction_list = []\n",
    "        self.dep_withdrwan = \"a\"\n",
    "        print(\"Dear {} your account has been created and the balance is INR {} \".format(self.name,self.balance))\n",
    "        \n",
    "    def deposit(self,amount):\n",
    "        if amount > 0:\n",
    "            self.balance += amount\n",
    "            self.show_balance()\n",
    "            self.transaction_list.append((Bank_Account._time_now,amount))\n",
    "            \n",
    "    def withdrawn(self,amount):\n",
    "        if 0<amount < self.balance:\n",
    "            self.balance -= amount\n",
    "            self.show_balance()\n",
    "            self.transaction_list.append((Bank_Account._time_now,-amount))\n",
    "        else:\n",
    "            print(\"You have insufficient balance and you cannot withdraw above {}\".format(self.balance))\n",
    "            \n",
    "    def show_balance (self):\n",
    "        print(\"Your current balance is {} \\-\".format(self.balance))\n",
    "        \n",
    "    def show_trans(self):\n",
    "        for date,amount in self.transaction_list:\n",
    "            if amount > 0:\n",
    "                tran_type=\"Deposit\"\n",
    "            else:\n",
    "                tran_type=\"Withdraw\"\n",
    "                amount = -amount\n",
    "            print(\"INR {}\\- {} on {}\".format(amount, tran_type,date.astimezone()))"
   ]
  },
  {
   "cell_type": "code",
   "execution_count": 88,
   "id": "fb35bc3b",
   "metadata": {},
   "outputs": [
    {
     "name": "stdout",
     "output_type": "stream",
     "text": [
      "Dear Preeti your account has been created and the balance is INR 9000 \n"
     ]
    }
   ],
   "source": [
    "cust2= Bank_Account(\"Preeti\", 9000)"
   ]
  },
  {
   "cell_type": "code",
   "execution_count": 92,
   "id": "7bf3ce74",
   "metadata": {},
   "outputs": [
    {
     "name": "stdout",
     "output_type": "stream",
     "text": [
      "Your current balance is 16634 \\-\n"
     ]
    }
   ],
   "source": [
    "cust2.deposit(7634)"
   ]
  },
  {
   "cell_type": "code",
   "execution_count": 93,
   "id": "a05b2f10",
   "metadata": {},
   "outputs": [
    {
     "name": "stdout",
     "output_type": "stream",
     "text": [
      "Your current balance is 15278 \\-\n"
     ]
    }
   ],
   "source": [
    "cust2.withdrawn(1356)"
   ]
  },
  {
   "cell_type": "code",
   "execution_count": 94,
   "id": "5f82042f",
   "metadata": {},
   "outputs": [
    {
     "ename": "AttributeError",
     "evalue": "'function' object has no attribute 'astimezone'",
     "output_type": "error",
     "traceback": [
      "\u001b[1;31m---------------------------------------------------------------------------\u001b[0m",
      "\u001b[1;31mAttributeError\u001b[0m                            Traceback (most recent call last)",
      "\u001b[1;32m<ipython-input-94-ed69be0b11ab>\u001b[0m in \u001b[0;36m<module>\u001b[1;34m\u001b[0m\n\u001b[1;32m----> 1\u001b[1;33m \u001b[0mcust2\u001b[0m\u001b[1;33m.\u001b[0m\u001b[0mshow_trans\u001b[0m\u001b[1;33m(\u001b[0m\u001b[1;33m)\u001b[0m\u001b[1;33m\u001b[0m\u001b[1;33m\u001b[0m\u001b[0m\n\u001b[0m",
      "\u001b[1;32m<ipython-input-87-f56cee6f88c9>\u001b[0m in \u001b[0;36mshow_trans\u001b[1;34m(self)\u001b[0m\n\u001b[0;32m     38\u001b[0m                 \u001b[0mtran_type\u001b[0m\u001b[1;33m=\u001b[0m\u001b[1;34m\"Withdraw\"\u001b[0m\u001b[1;33m\u001b[0m\u001b[1;33m\u001b[0m\u001b[0m\n\u001b[0;32m     39\u001b[0m                 \u001b[0mamount\u001b[0m \u001b[1;33m=\u001b[0m \u001b[1;33m-\u001b[0m\u001b[0mamount\u001b[0m\u001b[1;33m\u001b[0m\u001b[1;33m\u001b[0m\u001b[0m\n\u001b[1;32m---> 40\u001b[1;33m             \u001b[0mprint\u001b[0m\u001b[1;33m(\u001b[0m\u001b[1;34m\"INR {}\\- {} on {}\"\u001b[0m\u001b[1;33m.\u001b[0m\u001b[0mformat\u001b[0m\u001b[1;33m(\u001b[0m\u001b[0mamount\u001b[0m\u001b[1;33m,\u001b[0m \u001b[0mtran_type\u001b[0m\u001b[1;33m,\u001b[0m\u001b[0mdate\u001b[0m\u001b[1;33m.\u001b[0m\u001b[0mastimezone\u001b[0m\u001b[1;33m(\u001b[0m\u001b[1;33m)\u001b[0m\u001b[1;33m)\u001b[0m\u001b[1;33m)\u001b[0m\u001b[1;33m\u001b[0m\u001b[1;33m\u001b[0m\u001b[0m\n\u001b[0m",
      "\u001b[1;31mAttributeError\u001b[0m: 'function' object has no attribute 'astimezone'"
     ]
    }
   ],
   "source": [
    "cust2.show_trans()"
   ]
  },
  {
   "cell_type": "code",
   "execution_count": null,
   "id": "be37d7d2",
   "metadata": {},
   "outputs": [],
   "source": []
  }
 ],
 "metadata": {
  "kernelspec": {
   "display_name": "Python 3",
   "language": "python",
   "name": "python3"
  },
  "language_info": {
   "codemirror_mode": {
    "name": "ipython",
    "version": 3
   },
   "file_extension": ".py",
   "mimetype": "text/x-python",
   "name": "python",
   "nbconvert_exporter": "python",
   "pygments_lexer": "ipython3",
   "version": "3.8.8"
  }
 },
 "nbformat": 4,
 "nbformat_minor": 5
}
